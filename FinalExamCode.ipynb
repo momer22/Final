{
  "nbformat": 4,
  "nbformat_minor": 0,
  "metadata": {
    "colab": {
      "name": "Final.ipynb",
      "provenance": []
    },
    "kernelspec": {
      "name": "python3",
      "display_name": "Python 3"
    },
    "language_info": {
      "name": "python"
    }
  },
  "cells": [
    {
      "cell_type": "code",
      "execution_count": 7,
      "metadata": {
        "id": "Lp7zcsq5ziWx"
      },
      "outputs": [],
      "source": [
        "#2\n",
        "import pandas as pd \n",
        "import numpy as np \n",
        "\n",
        "\n",
        "df = pd.read_csv(\"cross_over.csv\")\n",
        "df.head()\n",
        "\n",
        "parents = df[\"Parents\"]      # parent\n",
        "offspring = df[\"off_spring\"]  # new off spring frim file \n",
        "# cross over function \n",
        "\n",
        "def crossover(parents, offspring_size,Cross_Over_rate):\n",
        "    offspring = np.empty(offspring_size)   \n",
        "    crossover_point = np.uint8(offspring_size[1]/2)    \n",
        "    for k in range(offspring_size[0]):\n",
        "        r = random.random()\n",
        "        if r < Cross_Over_rate:\n",
        "          parent1_idx = k%parents.shape[0]  \n",
        "          parent2_idx = (k+1)%parents.shape[0]\n",
        "          offspring[k, 0:crossover_point] = parents[parent1_idx, 0:crossover_point]\n",
        "          offspring[k, crossover_point:] = parents[parent2_idx, crossover_point:]\n",
        "    return offspring\n",
        "\n",
        "Cross_Over_rate = 0.8\n",
        "off_spring_size =10\n",
        "print(crossover(parents,off_spring_size, Cross_Over_rate))\n",
        "\n",
        "\n",
        "\n"
      ]
    },
    {
      "cell_type": "code",
      "source": [
        "#3\n",
        "import pandas as pd \n",
        "import numpy as np \n",
        "import random \n",
        "\n",
        "df = pd.read_csv(\"mutation.csv\")\n",
        "df.head()\n",
        "\n",
        "off_spring =  ['1001011010',\n",
        "'1110010000',\n",
        "'111010100',\n",
        "'1110010101',\n",
        "'111010000',\n",
        "'1110010101',\n",
        "'1110100011',\n",
        "'1110100001',\n",
        "'100111000',\n",
        "'110010011',\n",
        "'1110001011',\n",
        "'1000010010',\n",
        "'1011010000',\n",
        "'1011010000',\n",
        "'1101101001',\n",
        "'1110010000'] \n",
        "mutation_rate = 0.01\n",
        "def mutate_Off_Spring(off_spring, mutation_rate):\n",
        "    mutated_list = list(off_spring)\n",
        "    for i in range(len(off_spring)):\n",
        "        r = random.random()\n",
        "        if r < mutation_rate:\n",
        "            mutation_point = random.randint(0, len(mutated_list) - 1)\n",
        "            print(mutation_point)\n",
        "            mutated_list[mutation_point] = random.choice(off_spring)\n",
        "        return ''.join(mutated_list)\n",
        "\n",
        "mutated_offspring = [mutate_Off_Spring(os,mutation_rate) for os in off_spring]\n",
        "\n",
        "## run the function\n",
        "print(mutated_offspring)"
      ],
      "metadata": {
        "colab": {
          "base_uri": "https://localhost:8080/"
        },
        "id": "j1jaHXug6aHe",
        "outputId": "7239d06d-35b3-4110-8e8a-ec20f3501c0e"
      },
      "execution_count": 16,
      "outputs": [
        {
          "output_type": "stream",
          "name": "stdout",
          "text": [
            "['1001011010', '1110010000', '111010100', '1110010101', '111010000', '1110010101', '1110100011', '1110100001', '100111000', '110010011', '1110001011', '1000010010', '1011010000', '1011010000', '1101101001', '1110010000']\n"
          ]
        }
      ]
    },
    {
      "cell_type": "code",
      "source": [
        "# 4\n",
        "import numpy as np\n",
        "# probabilities of being on [ London ,\t Barcelona , \tNew York] = [0.1, 0.6, 0.3]\n",
        "prob_Tu = [0.1, 0.6, 0.3]\n",
        "\n",
        "# after 3 days the probabilities of being on any of the city is : \n",
        "tranA = np.matrix([[0.1,\t0.7\t,0.2],[0.75,\t0.15,\t0.10], [0.6,\t0.35,\t0.05]])\n",
        "prob_Friday = prob_Tu*(tranA**3)\n",
        "\n",
        "print(prob_Friday)\n",
        "\n"
      ],
      "metadata": {
        "colab": {
          "base_uri": "https://localhost:8080/"
        },
        "id": "EgOtiMNWE4dN",
        "outputId": "ab41a895-0a5a-40bc-a6ee-19303099f41d"
      },
      "execution_count": 18,
      "outputs": [
        {
          "output_type": "stream",
          "name": "stdout",
          "text": [
            "[[0.518275  0.3577125 0.1240125]]\n"
          ]
        }
      ]
    }
  ]
}